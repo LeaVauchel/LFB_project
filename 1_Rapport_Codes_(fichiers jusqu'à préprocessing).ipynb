{
 "cells": [
  {
   "cell_type": "code",
   "execution_count": 1,
   "id": "f8cc947e-c81a-49ff-93e5-5d97824516cc",
   "metadata": {},
   "outputs": [],
   "source": [
    "#Importation des packages\n",
    "import pandas as pd\n",
    "import numpy as np\n",
    "import seaborn as sns\n",
    "import matplotlib.pyplot as plt\n",
    "import plotly.graph_objects as go\n",
    "import plotly.express as px"
   ]
  },
  {
   "cell_type": "markdown",
   "id": "e8109f55-76e6-4c26-8cc7-9fe0a448e30f",
   "metadata": {},
   "source": [
    "## FICHIER UNIQUE DE DONNEES"
   ]
  },
  {
   "cell_type": "code",
   "execution_count": 2,
   "id": "6f76df02-7bc5-4158-ba60-985c098db618",
   "metadata": {},
   "outputs": [],
   "source": [
    "#Fichier INCIDENT 2009_2017\n",
    "df1 = pd.read_csv(\"0.1_initial_Incidents_2009 - 2017.csv\",low_memory=False)\n",
    "pd.set_option('display.max_columns', None)\n",
    "#df1.head()"
   ]
  },
  {
   "cell_type": "code",
   "execution_count": 3,
   "id": "112b7fec-af5e-4eaa-b819-3e63c420e72a",
   "metadata": {},
   "outputs": [],
   "source": [
    "#Fichier INCIDENT 2018-2024:\n",
    "df2 = pd.read_csv(\"0.2_initial_Incidents_2018  - 2024.csv\",sep=\";\",low_memory=False)"
   ]
  },
  {
   "cell_type": "code",
   "execution_count": 4,
   "id": "bbdee516-348a-42a5-b858-fa120b5aaaae",
   "metadata": {},
   "outputs": [],
   "source": [
    "# Fichier final Incident entre 2009 et 2024\n",
    "df = pd.concat([df1, df2], axis = 0)"
   ]
  },
  {
   "cell_type": "code",
   "execution_count": 5,
   "id": "70b09852-97e0-4d37-8b1e-e6882c51dac4",
   "metadata": {},
   "outputs": [],
   "source": [
    "#df.shape"
   ]
  },
  {
   "cell_type": "code",
   "execution_count": 6,
   "id": "50be8132-11bf-42a8-ab4b-8877bdae6ce1",
   "metadata": {},
   "outputs": [],
   "source": [
    "#Fichier MOBILISATION 2009-2014\n",
    "data1 = pd.read_csv(\"0.3_initial_Mobilisation_2009 - 2014.csv\",sep=\";\")\n",
    "#data1.shape"
   ]
  },
  {
   "cell_type": "code",
   "execution_count": 7,
   "id": "9b13b128-4e47-4ffa-94c2-46930b1bb6c7",
   "metadata": {},
   "outputs": [],
   "source": [
    "#Fichier MOBILISATION 2015-2020 \n",
    "data2 = pd.read_csv(\"0.4_initial_ Mobilisation_2015 - 2020.csv\", sep=';', low_memory=False)"
   ]
  },
  {
   "cell_type": "code",
   "execution_count": 8,
   "id": "7dd38a26-9676-42b0-8252-924d2c4ee5d5",
   "metadata": {},
   "outputs": [],
   "source": [
    "#Fichier MOBILISATION 2021-2024\n",
    "data3 = pd.read_csv(\"0.4_initial_Mobilisation_2021 - 2024.csv\", sep=\";\",low_memory=False)"
   ]
  },
  {
   "cell_type": "code",
   "execution_count": 9,
   "id": "360df9b2-dcc0-4046-9090-edb7653f231d",
   "metadata": {},
   "outputs": [],
   "source": [
    "#Concaténer les fichiers mobilisation \n",
    "data = pd.concat([data1, data2, data3], axis = 0)"
   ]
  },
  {
   "cell_type": "code",
   "execution_count": 10,
   "id": "4950d1ab-2004-47f1-a24d-a4c0f5aee904",
   "metadata": {},
   "outputs": [],
   "source": [
    "#Format de IncidentNumber avant la fusion:\n",
    "data[\"IncidentNumber\"] = data[\"IncidentNumber\"].astype(str)\n",
    "df[\"IncidentNumber\"] = df[\"IncidentNumber\"].astype(str)\n",
    "df[\"IncidentNumber\"] = df[\"IncidentNumber\"].astype(str).str.replace(r'\\.00$', '', regex=True)"
   ]
  },
  {
   "cell_type": "code",
   "execution_count": 11,
   "id": "8ec94349-fc89-4cab-acb8-406c4a9ace13",
   "metadata": {},
   "outputs": [],
   "source": [
    "#Fusionner Incidents et Mobilisation\n",
    "LFB = pd.merge(data, df, on=[\"IncidentNumber\", \"CalYear\", \"HourOfCall\"], how=\"inner\")"
   ]
  },
  {
   "cell_type": "code",
   "execution_count": 12,
   "id": "7c94e04d-2b30-426f-bb31-a411cae157d0",
   "metadata": {},
   "outputs": [
    {
     "data": {
      "text/plain": [
       "(2488987, 60)"
      ]
     },
     "execution_count": 12,
     "metadata": {},
     "output_type": "execute_result"
    }
   ],
   "source": [
    "LFB.shape"
   ]
  },
  {
   "cell_type": "code",
   "execution_count": 13,
   "id": "5e6bd7fb-9066-426b-b381-c862bc47c41a",
   "metadata": {},
   "outputs": [],
   "source": [
    "#LFB.head()"
   ]
  },
  {
   "cell_type": "markdown",
   "id": "7ba70d26-dfc4-408a-9e8d-d8c06e820e25",
   "metadata": {},
   "source": [
    "#### DONNEES TEMPORELLES"
   ]
  },
  {
   "cell_type": "code",
   "execution_count": 14,
   "id": "acb7cb2b-05fa-4b46-98d0-844ade1bd8d1",
   "metadata": {},
   "outputs": [],
   "source": [
    "#Création d'une colonne temporelle au format d/m/Y \n",
    "LFB[\"DATE\"] = LFB[\"DateAndTimeMobilised\"].apply(lambda x : x[:10])"
   ]
  },
  {
   "cell_type": "code",
   "execution_count": 15,
   "id": "b11cf399-e722-40b2-9eb6-fb011a662fca",
   "metadata": {},
   "outputs": [],
   "source": [
    "#Mettre les variables temporelles au type datetime\n",
    "LFB[\"DATE\"] =  pd.to_datetime(LFB[\"DATE\"],format = '%d/%m/%Y')\n",
    "LFB[\"DateAndTimeMobile\"] = pd.to_datetime(LFB[\"DateAndTimeMobile\"],format = '%d/%m/%Y %H:%M', errors ='coerce')\n",
    "LFB[\"DateAndTimeMobilised\"] = pd.to_datetime(LFB[\"DateAndTimeMobilised\"],format = '%d/%m/%Y %H:%M', errors ='coerce')\n",
    "LFB[\"DateAndTimeArrived\"] = pd.to_datetime(LFB[\"DateAndTimeArrived\"],format = '%d/%m/%Y %H:%M', errors ='coerce')\n",
    "LFB[\"DateAndTimeLeft\"] = pd.to_datetime(LFB[\"DateAndTimeLeft\"],format = '%d/%m/%Y %H:%M', errors ='coerce')\n",
    "LFB[\"DateAndTimeReturned\"] = pd.to_datetime(LFB[\"DateAndTimeReturned\"],format = '%d/%m/%Y %H:%M', errors ='coerce')"
   ]
  },
  {
   "cell_type": "code",
   "execution_count": 16,
   "id": "eef07c0b-c180-44d4-a870-2c5f3e97ae61",
   "metadata": {},
   "outputs": [],
   "source": [
    "#Création de nouvelles variables temporelles\n",
    "LFB.loc[:,\"Month\"] = LFB[\"DateAndTimeMobilised\"].dt.month\n",
    "LFB.loc[:,\"WeekDay\"] = LFB[\"DateAndTimeMobilised\"].dt.day_name()\n",
    "LFB.loc[:,\"Day\"] = LFB[\"DateAndTimeMobilised\"].dt.day"
   ]
  },
  {
   "cell_type": "markdown",
   "id": "51f68b14-11d1-428e-9c77-57fb108f2bb4",
   "metadata": {},
   "source": [
    "#### SUPPRESSION DE LIGNES NON PERTINENTES"
   ]
  },
  {
   "cell_type": "code",
   "execution_count": 17,
   "id": "3ddf54d2-87a0-48fb-84fc-05bbb1a65627",
   "metadata": {},
   "outputs": [],
   "source": [
    "#Suppression des doublons\n",
    "LFB.duplicated().sum()\n",
    "LFB=LFB.drop_duplicates()"
   ]
  },
  {
   "cell_type": "code",
   "execution_count": 18,
   "id": "e24fda2f-6925-4c46-a03f-c08ebdcd03e3",
   "metadata": {},
   "outputs": [],
   "source": [
    "#Conserver le premier camion mobilisé\n",
    "filtered_LFB = LFB[LFB[\"PumpOrder\"]==1]\n",
    "LFB = filtered_LFB.drop_duplicates(subset=\"IncidentNumber\", keep=\"first\").reset_index(drop=True)"
   ]
  },
  {
   "cell_type": "code",
   "execution_count": 19,
   "id": "8acb97ad-086f-4f91-8e67-a4050fbe0f06",
   "metadata": {},
   "outputs": [],
   "source": [
    "#Suppression des lignes correspondantes à la période du confinement COVID-19 \n",
    "LFB = LFB.loc[(LFB[\"DATE\"]<\"23-03-2020\")|(LFB[\"DATE\"]>\"21-02-2021\")]"
   ]
  },
  {
   "cell_type": "code",
   "execution_count": 20,
   "id": "45ef8723-446d-4799-a859-f46203f44bfa",
   "metadata": {},
   "outputs": [],
   "source": [
    "#Suppression des lignes NaN de la variable-cible\n",
    "LFB = LFB.dropna(subset = \"FirstPumpArriving_AttendanceTime\")"
   ]
  },
  {
   "cell_type": "markdown",
   "id": "a426af11-ab92-41bc-80fb-02d046cf57de",
   "metadata": {},
   "source": [
    "#### ENRICHISSEMENT DE DONNEES"
   ]
  },
  {
   "cell_type": "code",
   "execution_count": 21,
   "id": "0d9b0f75-29fe-483b-b4c7-ebfc4e214a81",
   "metadata": {},
   "outputs": [],
   "source": [
    "#Fichiers Météo\n",
    "meteo09 = pd.read_csv(\"export-londres2009.csv\", sep=\",\", skiprows=3)\n",
    "meteo10 = pd.read_csv(\"export-londres2010.csv\", sep=\",\", skiprows=3)\n",
    "meteo11 = pd.read_csv(\"export-londres2011.csv\", sep=\",\", skiprows=3)\n",
    "meteo12 = pd.read_csv(\"export-londres2012.csv\", sep=\",\", skiprows=3)\n",
    "meteo13 = pd.read_csv(\"export-londres2013.csv\", sep=\",\", skiprows=3)\n",
    "meteo14 = pd.read_csv(\"export-londres2014.csv\", sep=\",\", skiprows=3)\n",
    "meteo15 = pd.read_csv(\"export-londres2015.csv\", sep=\",\", skiprows=3)\n",
    "meteo16 = pd.read_csv(\"export-londres2016.csv\", sep=\",\", skiprows=3)\n",
    "meteo17 = pd.read_csv(\"export-londres2017.csv\", sep=\",\", skiprows=3)\n",
    "meteo18 = pd.read_csv(\"export-londres2018.csv\", sep=\",\", skiprows=3)\n",
    "meteo19 = pd.read_csv(\"export-londres2019.csv\", sep=\",\", skiprows=3)\n",
    "meteo20 = pd.read_csv(\"export-londres2020.csv\", sep=\",\", skiprows=3)\n",
    "meteo21 = pd.read_csv(\"export-londres2021.csv\", sep=\",\", skiprows=3)\n",
    "meteo22 = pd.read_csv(\"export-londres2022.csv\", sep=\",\", skiprows=3)\n",
    "meteo23 = pd.read_csv(\"export-londres2023.csv\", sep=\",\", skiprows=3)\n",
    "meteo24 = pd.read_csv(\"export-londres2024.csv\", sep=\",\", skiprows=3)"
   ]
  },
  {
   "cell_type": "code",
   "execution_count": 22,
   "id": "c22c9434-f4d4-4796-9edd-a1ed58deda2d",
   "metadata": {},
   "outputs": [],
   "source": [
    "meteo = pd.concat([meteo09,meteo10,meteo11,meteo12,meteo13,meteo14,meteo15,meteo16,meteo17,meteo18,meteo19,meteo20,meteo21,meteo22,meteo23,meteo24], axis=0)"
   ]
  },
  {
   "cell_type": "code",
   "execution_count": 23,
   "id": "db08cfb8-0710-4dac-8b2e-0f6def0dc3d9",
   "metadata": {},
   "outputs": [],
   "source": [
    "#Conserver les variables pertinentes pour le projet\n",
    "meteo = meteo[[\"DATE\", \"OPINION\", \"VISIBILITY_AVG_KM\"]]"
   ]
  },
  {
   "cell_type": "code",
   "execution_count": 24,
   "id": "e5fde33f-e760-4bc9-9f1a-1e87be95b82c",
   "metadata": {},
   "outputs": [],
   "source": [
    "#Conversion DATE en datetime avant fusion\n",
    "meteo[\"DATE\"] =  pd.to_datetime(meteo[\"DATE\"],format = '%Y-%m-%d')"
   ]
  },
  {
   "cell_type": "code",
   "execution_count": 25,
   "id": "6d98874d-1bd4-4244-b560-cc2088b96bc3",
   "metadata": {},
   "outputs": [],
   "source": [
    "#Suppression des dates postérieures au 29 nov 2024 qui est la dernière date de notre jeu de données\n",
    "meteo = meteo.loc[(meteo[\"DATE\"]>= \"2009-01-01\")&(meteo[\"DATE\"]<=\"2024-11-29\")]"
   ]
  },
  {
   "cell_type": "code",
   "execution_count": 26,
   "id": "f13992f0-8a8d-4c21-a2bf-3420f1515ed8",
   "metadata": {},
   "outputs": [],
   "source": [
    "#Suppression de la période de confinement : \n",
    "meteo = meteo.loc[(meteo[\"DATE\"]<\"2020-03-23\")|(meteo[\"DATE\"]>\"2021-02-21\")]"
   ]
  },
  {
   "cell_type": "code",
   "execution_count": 27,
   "id": "00d35d3a-3c97-4cb7-972f-af7a78088c3d",
   "metadata": {},
   "outputs": [],
   "source": [
    "#meteo.duplicated().sum()\n",
    "#meteo.isna().sum()"
   ]
  },
  {
   "cell_type": "code",
   "execution_count": 28,
   "id": "979499c8-1c4e-46f2-900f-e241a62054e3",
   "metadata": {},
   "outputs": [],
   "source": [
    "#Fusion du fichier LFB et meteo\n",
    "LFB_Meteo = pd.merge(LFB,meteo, on=\"DATE\",how=\"inner\")"
   ]
  },
  {
   "cell_type": "code",
   "execution_count": 29,
   "id": "c295e620-30ce-4dce-8c57-a1ce98523e1c",
   "metadata": {},
   "outputs": [
    {
     "data": {
      "text/plain": [
       "(1560925, 66)"
      ]
     },
     "execution_count": 29,
     "metadata": {},
     "output_type": "execute_result"
    }
   ],
   "source": [
    "LFB_Meteo.shape"
   ]
  },
  {
   "cell_type": "code",
   "execution_count": 31,
   "id": "64a95978-7dad-4ebf-ad00-efbee58d295a",
   "metadata": {},
   "outputs": [],
   "source": [
    "#LFB_Meteo.isna().sum()"
   ]
  },
  {
   "cell_type": "code",
   "execution_count": 33,
   "id": "bd21e6b7-7c8a-4443-ae1a-3201148b8ff4",
   "metadata": {},
   "outputs": [
    {
     "data": {
      "text/plain": [
       "0"
      ]
     },
     "execution_count": 33,
     "metadata": {},
     "output_type": "execute_result"
    }
   ],
   "source": [
    "LFB_Meteo.duplicated().sum()"
   ]
  },
  {
   "cell_type": "code",
   "execution_count": 34,
   "id": "ed01b2b8-eb56-43e9-b975-4b178c9683bd",
   "metadata": {},
   "outputs": [],
   "source": [
    "#LFB_Meteo.dtypes"
   ]
  },
  {
   "cell_type": "code",
   "execution_count": 35,
   "id": "d7130354-0d38-45d1-842c-1729fd1c79bb",
   "metadata": {},
   "outputs": [],
   "source": [
    "#Création d'une variable catégorielle de la visibilité sur la route\n",
    "LFB_Meteo.loc[(LFB_Meteo [\"VISIBILITY_AVG_KM\"]<= 2.0, [\"Visibility\"])] = \"très mauvaise\"\n",
    "LFB_Meteo.loc[(LFB_Meteo [\"VISIBILITY_AVG_KM\"]>2.0)&(LFB_Meteo[\"VISIBILITY_AVG_KM\"]<=10),[\"Visibility\"]] = \"moyenne\"\n",
    "LFB_Meteo.loc[(LFB_Meteo [\"VISIBILITY_AVG_KM\"]>10), [\"Visibility\"]] = \"très bonne\""
   ]
  },
  {
   "cell_type": "code",
   "execution_count": 36,
   "id": "77f94d97-b732-4f62-a70d-c62137d503a2",
   "metadata": {},
   "outputs": [],
   "source": [
    "#Suppression de la variable initiale de visibilité :\n",
    "LFB_Meteo = LFB_Meteo.drop(\"VISIBILITY_AVG_KM\", axis=1)"
   ]
  },
  {
   "cell_type": "markdown",
   "id": "0dea5800-cd97-4e4a-a153-b4b19e44e7bf",
   "metadata": {},
   "source": [
    "## EXPLORATION "
   ]
  },
  {
   "cell_type": "code",
   "execution_count": 37,
   "id": "7ebea080-272c-4eb7-932a-6635beb5d104",
   "metadata": {},
   "outputs": [],
   "source": [
    "#Variables catégorielles :\n",
    "LFB_Meteo[\"CalYear\"] = LFB_Meteo[\"CalYear\"].astype(object)\n",
    "LFB_Meteo[\"HourOfCall\"] = LFB_Meteo[\"HourOfCall\"].astype(object)\n",
    "LFB_Meteo[\"UPRN\"] = LFB_Meteo[\"UPRN\"].astype(object)\n",
    "LFB_Meteo[\"USRN\"] = LFB_Meteo[\"USRN\"].astype(object)\n",
    "LFB_Meteo[\"Easting_m\"] = LFB_Meteo[\"Easting_m\"].astype(object)\n",
    "LFB_Meteo[\"Northing_m\"] = LFB_Meteo[\"Northing_m\"].astype(object)\n",
    "LFB_Meteo[\"Easting_rounded\"] = LFB_Meteo[\"Easting_rounded\"].astype(object)\n",
    "LFB_Meteo[\"Northing_rounded\"] = LFB_Meteo[\"Northing_rounded\"].astype(object)\n",
    "LFB_Meteo[\"Latitude\"] = LFB_Meteo[\"Latitude\"].astype(object)\n",
    "LFB_Meteo[\"Longitude\"] = LFB_Meteo[\"Longitude\"].astype(object)\n",
    "LFB_Meteo[\"ResourceMobilisationId\"] = LFB_Meteo[\"ResourceMobilisationId\"].astype(object)\n",
    "LFB_Meteo[\"PerformanceReporting\"] = LFB_Meteo[\"PerformanceReporting\"].astype(object)\n",
    "LFB_Meteo[\"PumpOrder\"] = LFB_Meteo[\"PumpOrder\"].astype(object)\n",
    "LFB_Meteo[\"DelayCodeId\"] = LFB_Meteo[\"DelayCodeId\"].astype(object)\n",
    "LFB_Meteo[\"Month\"] = LFB_Meteo[\"Month\"].astype(object)\n",
    "LFB_Meteo[\"Day\"] = LFB_Meteo[\"Day\"].astype(object)"
   ]
  },
  {
   "cell_type": "markdown",
   "id": "7a3eeb72-bd78-49fe-ac40-64661e750ced",
   "metadata": {},
   "source": [
    "#### DESCRIPTION"
   ]
  },
  {
   "cell_type": "code",
   "execution_count": 38,
   "id": "53186412-1c91-43b4-9290-94ac60597bcc",
   "metadata": {},
   "outputs": [],
   "source": [
    "#Mettre les variables temporelles au type datetime\n",
    "LFB_Meteo[\"DATE\"] =  pd.to_datetime(LFB_Meteo[\"DATE\"],format = '%d/%m/%Y')\n",
    "LFB_Meteo[\"DateAndTimeMobile\"] = pd.to_datetime(LFB_Meteo[\"DateAndTimeMobile\"],format = '%d/%m/%Y %H:%M', errors ='coerce')\n",
    "LFB_Meteo[\"DateAndTimeMobilised\"] = pd.to_datetime(LFB_Meteo[\"DateAndTimeMobilised\"],format = '%d/%m/%Y %H:%M', errors ='coerce')\n",
    "LFB_Meteo[\"DateAndTimeArrived\"] = pd.to_datetime(LFB_Meteo[\"DateAndTimeArrived\"],format = '%d/%m/%Y %H:%M', errors ='coerce')\n",
    "LFB_Meteo[\"DateAndTimeLeft\"] = pd.to_datetime(LFB_Meteo[\"DateAndTimeLeft\"],format = '%d/%m/%Y %H:%M', errors ='coerce')\n",
    "LFB_Meteo[\"DateAndTimeReturned\"] = pd.to_datetime(LFB_Meteo[\"DateAndTimeReturned\"],format = '%d/%m/%Y %H:%M', errors ='coerce')"
   ]
  },
  {
   "cell_type": "code",
   "execution_count": 39,
   "id": "928eb0d9-e517-4600-aa66-6c03036f9bab",
   "metadata": {},
   "outputs": [
    {
     "data": {
      "text/plain": [
       "IncidentNumber                                    object\n",
       "CalYear                                           object\n",
       "HourOfCall                                        object\n",
       "ResourceMobilisationId                            object\n",
       "Resource_Code                                     object\n",
       "PerformanceReporting                              object\n",
       "DateAndTimeMobilised                      datetime64[ns]\n",
       "DateAndTimeMobile                         datetime64[ns]\n",
       "DateAndTimeArrived                        datetime64[ns]\n",
       "TurnoutTimeSeconds                               float64\n",
       "TravelTimeSeconds                                float64\n",
       "AttendanceTimeSeconds                              int64\n",
       "DateAndTimeLeft                           datetime64[ns]\n",
       "DateAndTimeReturned                       datetime64[ns]\n",
       "DeployedFromStation_Code                          object\n",
       "DeployedFromStation_Name                          object\n",
       "DeployedFromLocation                              object\n",
       "PumpOrder                                         object\n",
       "PlusCode_Code                                     object\n",
       "PlusCode_Description                              object\n",
       "DelayCodeId                                       object\n",
       "DelayCode_Description                             object\n",
       "BoroughName                                       object\n",
       "WardName                                          object\n",
       "DateOfCall                                        object\n",
       "TimeOfCall                                        object\n",
       "IncidentGroup                                     object\n",
       "StopCodeDescription                               object\n",
       "SpecialServiceType                                object\n",
       "PropertyCategory                                  object\n",
       "PropertyType                                      object\n",
       "AddressQualifier                                  object\n",
       "Postcode_full                                     object\n",
       "Postcode_district                                 object\n",
       "UPRN                                              object\n",
       "USRN                                              object\n",
       "IncGeo_BoroughCode                                object\n",
       "IncGeo_BoroughName                                object\n",
       "ProperCase                                        object\n",
       "IncGeo_WardCode                                   object\n",
       "IncGeo_WardName                                   object\n",
       "IncGeo_WardNameNew                                object\n",
       "Easting_m                                         object\n",
       "Northing_m                                        object\n",
       "Easting_rounded                                   object\n",
       "Northing_rounded                                  object\n",
       "Latitude                                          object\n",
       "Longitude                                         object\n",
       "FRS                                               object\n",
       "IncidentStationGround                             object\n",
       "FirstPumpArriving_AttendanceTime                 float64\n",
       "FirstPumpArriving_DeployedFromStation             object\n",
       "SecondPumpArriving_AttendanceTime                float64\n",
       "SecondPumpArriving_DeployedFromStation            object\n",
       "NumStationsWithPumpsAttending                    float64\n",
       "NumPumpsAttending                                float64\n",
       "PumpCount                                          int64\n",
       "PumpMinutesRounded                                 int64\n",
       "Notional Cost (£)                                  int64\n",
       "NumCalls                                         float64\n",
       "DATE                                      datetime64[ns]\n",
       "Month                                             object\n",
       "WeekDay                                           object\n",
       "Day                                               object\n",
       "OPINION                                           object\n",
       "Visibility                                        object\n",
       "dtype: object"
      ]
     },
     "execution_count": 39,
     "metadata": {},
     "output_type": "execute_result"
    }
   ],
   "source": [
    "LFB_Meteo.dtypes\n",
    "pd.set_option('display.max_rows', None)\n",
    "LFB_Meteo.dtypes"
   ]
  },
  {
   "cell_type": "code",
   "execution_count": 40,
   "id": "d0d7dc4e-9754-4929-8f3a-521c88dc553f",
   "metadata": {},
   "outputs": [
    {
     "data": {
      "text/html": [
       "<div>\n",
       "<style scoped>\n",
       "    .dataframe tbody tr th:only-of-type {\n",
       "        vertical-align: middle;\n",
       "    }\n",
       "\n",
       "    .dataframe tbody tr th {\n",
       "        vertical-align: top;\n",
       "    }\n",
       "\n",
       "    .dataframe thead th {\n",
       "        text-align: right;\n",
       "    }\n",
       "</style>\n",
       "<table border=\"1\" class=\"dataframe\">\n",
       "  <thead>\n",
       "    <tr style=\"text-align: right;\">\n",
       "      <th></th>\n",
       "      <th>TurnoutTimeSeconds</th>\n",
       "      <th>TravelTimeSeconds</th>\n",
       "      <th>AttendanceTimeSeconds</th>\n",
       "      <th>FirstPumpArriving_AttendanceTime</th>\n",
       "      <th>SecondPumpArriving_AttendanceTime</th>\n",
       "      <th>NumStationsWithPumpsAttending</th>\n",
       "      <th>NumPumpsAttending</th>\n",
       "      <th>PumpCount</th>\n",
       "      <th>PumpMinutesRounded</th>\n",
       "      <th>Notional Cost (£)</th>\n",
       "      <th>NumCalls</th>\n",
       "    </tr>\n",
       "  </thead>\n",
       "  <tbody>\n",
       "    <tr>\n",
       "      <th>count</th>\n",
       "      <td>1539320.00</td>\n",
       "      <td>1539234.0</td>\n",
       "      <td>1560925.00</td>\n",
       "      <td>1560925.00</td>\n",
       "      <td>601467.00</td>\n",
       "      <td>1560925.00</td>\n",
       "      <td>1560925.00</td>\n",
       "      <td>1560925.00</td>\n",
       "      <td>1560925.00</td>\n",
       "      <td>1560925.00</td>\n",
       "      <td>1559931.00</td>\n",
       "    </tr>\n",
       "    <tr>\n",
       "      <th>mean</th>\n",
       "      <td>77.38</td>\n",
       "      <td>244.2</td>\n",
       "      <td>319.38</td>\n",
       "      <td>319.38</td>\n",
       "      <td>396.98</td>\n",
       "      <td>1.39</td>\n",
       "      <td>1.58</td>\n",
       "      <td>1.63</td>\n",
       "      <td>76.23</td>\n",
       "      <td>404.20</td>\n",
       "      <td>1.33</td>\n",
       "    </tr>\n",
       "    <tr>\n",
       "      <th>std</th>\n",
       "      <td>42.94</td>\n",
       "      <td>136.0</td>\n",
       "      <td>139.43</td>\n",
       "      <td>139.43</td>\n",
       "      <td>153.97</td>\n",
       "      <td>0.69</td>\n",
       "      <td>0.85</td>\n",
       "      <td>1.44</td>\n",
       "      <td>325.63</td>\n",
       "      <td>1742.35</td>\n",
       "      <td>1.51</td>\n",
       "    </tr>\n",
       "    <tr>\n",
       "      <th>min</th>\n",
       "      <td>0.00</td>\n",
       "      <td>0.0</td>\n",
       "      <td>1.00</td>\n",
       "      <td>1.00</td>\n",
       "      <td>1.00</td>\n",
       "      <td>1.00</td>\n",
       "      <td>1.00</td>\n",
       "      <td>1.00</td>\n",
       "      <td>60.00</td>\n",
       "      <td>255.00</td>\n",
       "      <td>1.00</td>\n",
       "    </tr>\n",
       "    <tr>\n",
       "      <th>25%</th>\n",
       "      <td>53.00</td>\n",
       "      <td>156.0</td>\n",
       "      <td>231.00</td>\n",
       "      <td>231.00</td>\n",
       "      <td>296.00</td>\n",
       "      <td>1.00</td>\n",
       "      <td>1.00</td>\n",
       "      <td>1.00</td>\n",
       "      <td>60.00</td>\n",
       "      <td>260.00</td>\n",
       "      <td>1.00</td>\n",
       "    </tr>\n",
       "    <tr>\n",
       "      <th>50%</th>\n",
       "      <td>72.00</td>\n",
       "      <td>221.0</td>\n",
       "      <td>297.00</td>\n",
       "      <td>297.00</td>\n",
       "      <td>371.00</td>\n",
       "      <td>1.00</td>\n",
       "      <td>1.00</td>\n",
       "      <td>1.00</td>\n",
       "      <td>60.00</td>\n",
       "      <td>328.00</td>\n",
       "      <td>1.00</td>\n",
       "    </tr>\n",
       "    <tr>\n",
       "      <th>75%</th>\n",
       "      <td>94.00</td>\n",
       "      <td>303.0</td>\n",
       "      <td>380.00</td>\n",
       "      <td>380.00</td>\n",
       "      <td>465.00</td>\n",
       "      <td>2.00</td>\n",
       "      <td>2.00</td>\n",
       "      <td>2.00</td>\n",
       "      <td>60.00</td>\n",
       "      <td>364.00</td>\n",
       "      <td>1.00</td>\n",
       "    </tr>\n",
       "    <tr>\n",
       "      <th>max</th>\n",
       "      <td>1192.00</td>\n",
       "      <td>1198.0</td>\n",
       "      <td>1200.00</td>\n",
       "      <td>1200.00</td>\n",
       "      <td>1200.00</td>\n",
       "      <td>46.00</td>\n",
       "      <td>106.00</td>\n",
       "      <td>402.00</td>\n",
       "      <td>129751.00</td>\n",
       "      <td>709305.00</td>\n",
       "      <td>369.00</td>\n",
       "    </tr>\n",
       "  </tbody>\n",
       "</table>\n",
       "</div>"
      ],
      "text/plain": [
       "       TurnoutTimeSeconds  TravelTimeSeconds  AttendanceTimeSeconds  \\\n",
       "count          1539320.00          1539234.0             1560925.00   \n",
       "mean                77.38              244.2                 319.38   \n",
       "std                 42.94              136.0                 139.43   \n",
       "min                  0.00                0.0                   1.00   \n",
       "25%                 53.00              156.0                 231.00   \n",
       "50%                 72.00              221.0                 297.00   \n",
       "75%                 94.00              303.0                 380.00   \n",
       "max               1192.00             1198.0                1200.00   \n",
       "\n",
       "       FirstPumpArriving_AttendanceTime  SecondPumpArriving_AttendanceTime  \\\n",
       "count                        1560925.00                          601467.00   \n",
       "mean                             319.38                             396.98   \n",
       "std                              139.43                             153.97   \n",
       "min                                1.00                               1.00   \n",
       "25%                              231.00                             296.00   \n",
       "50%                              297.00                             371.00   \n",
       "75%                              380.00                             465.00   \n",
       "max                             1200.00                            1200.00   \n",
       "\n",
       "       NumStationsWithPumpsAttending  NumPumpsAttending   PumpCount  \\\n",
       "count                     1560925.00         1560925.00  1560925.00   \n",
       "mean                            1.39               1.58        1.63   \n",
       "std                             0.69               0.85        1.44   \n",
       "min                             1.00               1.00        1.00   \n",
       "25%                             1.00               1.00        1.00   \n",
       "50%                             1.00               1.00        1.00   \n",
       "75%                             2.00               2.00        2.00   \n",
       "max                            46.00             106.00      402.00   \n",
       "\n",
       "       PumpMinutesRounded  Notional Cost (£)    NumCalls  \n",
       "count          1560925.00         1560925.00  1559931.00  \n",
       "mean                76.23             404.20        1.33  \n",
       "std                325.63            1742.35        1.51  \n",
       "min                 60.00             255.00        1.00  \n",
       "25%                 60.00             260.00        1.00  \n",
       "50%                 60.00             328.00        1.00  \n",
       "75%                 60.00             364.00        1.00  \n",
       "max             129751.00          709305.00      369.00  "
      ]
     },
     "execution_count": 40,
     "metadata": {},
     "output_type": "execute_result"
    }
   ],
   "source": [
    "LFB_Meteo.describe(include='number').round(2)"
   ]
  },
  {
   "cell_type": "code",
   "execution_count": 41,
   "id": "d84239c1-5685-481d-8184-1d3190747018",
   "metadata": {},
   "outputs": [],
   "source": [
    "#Renommer des variables\n",
    "LFB_Meteo  = LFB_Meteo.rename(columns={\"Notional Cost (£)\":\"NationalCost\",\"OPINION\":\"Meteo\"})"
   ]
  },
  {
   "cell_type": "markdown",
   "id": "49706538-eb9e-4f9e-bd54-a5d8ac9b14be",
   "metadata": {},
   "source": [
    "#### OUTLIERS"
   ]
  },
  {
   "cell_type": "code",
   "execution_count": 42,
   "id": "cae89ac6-8a6b-44b9-b22b-a01f905ec867",
   "metadata": {},
   "outputs": [],
   "source": [
    "#Suppression des valeurs >780s de la variable cible : \n",
    "LFB_Meteo = LFB_Meteo[LFB_Meteo[\"FirstPumpArriving_AttendanceTime\"]<780]"
   ]
  },
  {
   "cell_type": "code",
   "execution_count": 43,
   "id": "c5a167a1-7c1a-44a0-a76b-42dfb05e4666",
   "metadata": {},
   "outputs": [],
   "source": [
    "#LFB_Meteo.shape"
   ]
  },
  {
   "cell_type": "markdown",
   "id": "54c0bee6-f9b7-4b49-9d33-b1a16a5a7a29",
   "metadata": {},
   "source": [
    "#### CORRELATION"
   ]
  },
  {
   "cell_type": "code",
   "execution_count": 44,
   "id": "f4764e4b-d6b4-4c61-b6f5-5b09ce303270",
   "metadata": {},
   "outputs": [
    {
     "data": {
      "text/html": [
       "<div>\n",
       "<style scoped>\n",
       "    .dataframe tbody tr th:only-of-type {\n",
       "        vertical-align: middle;\n",
       "    }\n",
       "\n",
       "    .dataframe tbody tr th {\n",
       "        vertical-align: top;\n",
       "    }\n",
       "\n",
       "    .dataframe thead th {\n",
       "        text-align: right;\n",
       "    }\n",
       "</style>\n",
       "<table border=\"1\" class=\"dataframe\">\n",
       "  <thead>\n",
       "    <tr style=\"text-align: right;\">\n",
       "      <th></th>\n",
       "      <th>df</th>\n",
       "      <th>sum_sq</th>\n",
       "      <th>mean_sq</th>\n",
       "      <th>F</th>\n",
       "      <th>PR(&gt;F)</th>\n",
       "    </tr>\n",
       "  </thead>\n",
       "  <tbody>\n",
       "    <tr>\n",
       "      <th>Visibility</th>\n",
       "      <td>1.0</td>\n",
       "      <td>1.738774e+06</td>\n",
       "      <td>1.738774e+06</td>\n",
       "      <td>117.457486</td>\n",
       "      <td>2.284532e-27</td>\n",
       "    </tr>\n",
       "    <tr>\n",
       "      <th>Residual</th>\n",
       "      <td>1541276.0</td>\n",
       "      <td>2.281618e+10</td>\n",
       "      <td>1.480344e+04</td>\n",
       "      <td>NaN</td>\n",
       "      <td>NaN</td>\n",
       "    </tr>\n",
       "  </tbody>\n",
       "</table>\n",
       "</div>"
      ],
      "text/plain": [
       "                   df        sum_sq       mean_sq           F        PR(>F)\n",
       "Visibility        1.0  1.738774e+06  1.738774e+06  117.457486  2.284532e-27\n",
       "Residual    1541276.0  2.281618e+10  1.480344e+04         NaN           NaN"
      ]
     },
     "execution_count": 44,
     "metadata": {},
     "output_type": "execute_result"
    }
   ],
   "source": [
    "#Etude de la corrélation entre le temps de réponse et la visibilité\n",
    "import statsmodels.api as sm\n",
    "import statsmodels.formula.api as smf\n",
    "result = smf.ols(\"FirstPumpArriving_AttendanceTime~Visibility\", data = LFB_Meteo).fit()\n",
    "anova_results = sm.stats.anova_lm(result)\n",
    "anova_results"
   ]
  },
  {
   "cell_type": "code",
   "execution_count": 45,
   "id": "2a81b450-e45d-45bd-b5d2-61f4b7159298",
   "metadata": {},
   "outputs": [
    {
     "data": {
      "text/html": [
       "<div>\n",
       "<style scoped>\n",
       "    .dataframe tbody tr th:only-of-type {\n",
       "        vertical-align: middle;\n",
       "    }\n",
       "\n",
       "    .dataframe tbody tr th {\n",
       "        vertical-align: top;\n",
       "    }\n",
       "\n",
       "    .dataframe thead th {\n",
       "        text-align: right;\n",
       "    }\n",
       "</style>\n",
       "<table border=\"1\" class=\"dataframe\">\n",
       "  <thead>\n",
       "    <tr style=\"text-align: right;\">\n",
       "      <th></th>\n",
       "      <th>df</th>\n",
       "      <th>sum_sq</th>\n",
       "      <th>mean_sq</th>\n",
       "      <th>F</th>\n",
       "      <th>PR(&gt;F)</th>\n",
       "    </tr>\n",
       "  </thead>\n",
       "  <tbody>\n",
       "    <tr>\n",
       "      <th>Meteo</th>\n",
       "      <td>4.0</td>\n",
       "      <td>3.433966e+06</td>\n",
       "      <td>858491.588520</td>\n",
       "      <td>57.996924</td>\n",
       "      <td>4.970507e-49</td>\n",
       "    </tr>\n",
       "    <tr>\n",
       "      <th>Residual</th>\n",
       "      <td>1541273.0</td>\n",
       "      <td>2.281448e+10</td>\n",
       "      <td>14802.364086</td>\n",
       "      <td>NaN</td>\n",
       "      <td>NaN</td>\n",
       "    </tr>\n",
       "  </tbody>\n",
       "</table>\n",
       "</div>"
      ],
      "text/plain": [
       "                 df        sum_sq        mean_sq          F        PR(>F)\n",
       "Meteo           4.0  3.433966e+06  858491.588520  57.996924  4.970507e-49\n",
       "Residual  1541273.0  2.281448e+10   14802.364086        NaN           NaN"
      ]
     },
     "execution_count": 45,
     "metadata": {},
     "output_type": "execute_result"
    }
   ],
   "source": [
    "#Test de corrélation entre le temps d'arrivée de la première pompe et la météo:\n",
    "result = smf.ols(\"FirstPumpArriving_AttendanceTime~Meteo\", data = LFB_Meteo).fit()\n",
    "anova_results = sm.stats.anova_lm(result)\n",
    "anova_results"
   ]
  },
  {
   "cell_type": "markdown",
   "id": "ea30d4aa-5750-4bed-9b49-72517e210a75",
   "metadata": {},
   "source": [
    "#### SELECTION DES VARIABLES DE L'ETUDE"
   ]
  },
  {
   "cell_type": "code",
   "execution_count": 46,
   "id": "8df5c565-14a1-4f64-86bf-ad59b8a19290",
   "metadata": {},
   "outputs": [],
   "source": [
    "LFB_Fusion = LFB_Meteo[[\"DeployedFromStation_Name\",\"Easting_rounded\",\"Northing_rounded\",\n",
    "                    \"Meteo\",\"Visibility\",\"StopCodeDescription\",\"PropertyCategory\",\n",
    "                    \"CalYear\",\"HourOfCall\",\"FirstPumpArriving_AttendanceTime\"]]"
   ]
  },
  {
   "cell_type": "code",
   "execution_count": 47,
   "id": "774e71a7-6faa-4753-858f-37bcd2cd485e",
   "metadata": {},
   "outputs": [
    {
     "data": {
      "text/plain": [
       "(1541278, 10)"
      ]
     },
     "execution_count": 47,
     "metadata": {},
     "output_type": "execute_result"
    }
   ],
   "source": [
    "LFB_Fusion.shape"
   ]
  }
 ],
 "metadata": {
  "kernelspec": {
   "display_name": "Python 3 (ipykernel)",
   "language": "python",
   "name": "python3"
  },
  "language_info": {
   "codemirror_mode": {
    "name": "ipython",
    "version": 3
   },
   "file_extension": ".py",
   "mimetype": "text/x-python",
   "name": "python",
   "nbconvert_exporter": "python",
   "pygments_lexer": "ipython3",
   "version": "3.12.7"
  }
 },
 "nbformat": 4,
 "nbformat_minor": 5
}
