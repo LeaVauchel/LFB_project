{
 "cells": [
  {
   "cell_type": "markdown",
   "id": "bff79931-1a0d-4bb0-9347-8a887479428d",
   "metadata": {},
   "source": [
    "### Importation des Librairies et des fichiers : "
   ]
  },
  {
   "cell_type": "code",
   "execution_count": 5,
   "id": "d4dfa403-55fa-4e1d-a2b1-ca44e412c91d",
   "metadata": {},
   "outputs": [],
   "source": [
    "import pandas as pd"
   ]
  },
  {
   "cell_type": "code",
   "execution_count": 7,
   "id": "56ae6b3f-5623-4eb2-bf89-6ef7569e2f1f",
   "metadata": {},
   "outputs": [],
   "source": [
    "LFB2 = pd.read_csv('LFB2.csv')"
   ]
  },
  {
   "cell_type": "code",
   "execution_count": 8,
   "id": "b0583a31-eb90-4150-99d4-b1f13760299f",
   "metadata": {},
   "outputs": [
    {
     "data": {
      "text/html": [
       "<div>\n",
       "<style scoped>\n",
       "    .dataframe tbody tr th:only-of-type {\n",
       "        vertical-align: middle;\n",
       "    }\n",
       "\n",
       "    .dataframe tbody tr th {\n",
       "        vertical-align: top;\n",
       "    }\n",
       "\n",
       "    .dataframe thead th {\n",
       "        text-align: right;\n",
       "    }\n",
       "</style>\n",
       "<table border=\"1\" class=\"dataframe\">\n",
       "  <thead>\n",
       "    <tr style=\"text-align: right;\">\n",
       "      <th></th>\n",
       "      <th>Unnamed: 0</th>\n",
       "      <th>CalYear</th>\n",
       "      <th>HourOfCall</th>\n",
       "      <th>StopCodeDescription</th>\n",
       "      <th>PropertyCategory</th>\n",
       "      <th>Easting_rounded</th>\n",
       "      <th>Northing_rounded</th>\n",
       "      <th>FirstPumpArriving_AttendanceTime</th>\n",
       "      <th>DeployedFromStation_Name</th>\n",
       "      <th>Meteo</th>\n",
       "      <th>Visibility</th>\n",
       "    </tr>\n",
       "  </thead>\n",
       "  <tbody>\n",
       "    <tr>\n",
       "      <th>0</th>\n",
       "      <td>0</td>\n",
       "      <td>2009</td>\n",
       "      <td>0</td>\n",
       "      <td>Special Service</td>\n",
       "      <td>Road Vehicle</td>\n",
       "      <td>528650</td>\n",
       "      <td>176850</td>\n",
       "      <td>319</td>\n",
       "      <td>Battersea</td>\n",
       "      <td>météo très défavorable</td>\n",
       "      <td>moyenne</td>\n",
       "    </tr>\n",
       "    <tr>\n",
       "      <th>1</th>\n",
       "      <td>1</td>\n",
       "      <td>2009</td>\n",
       "      <td>0</td>\n",
       "      <td>Secondary Fire</td>\n",
       "      <td>Outdoor</td>\n",
       "      <td>533750</td>\n",
       "      <td>194450</td>\n",
       "      <td>308</td>\n",
       "      <td>Edmonton</td>\n",
       "      <td>météo très défavorable</td>\n",
       "      <td>moyenne</td>\n",
       "    </tr>\n",
       "    <tr>\n",
       "      <th>2</th>\n",
       "      <td>2</td>\n",
       "      <td>2009</td>\n",
       "      <td>0</td>\n",
       "      <td>Secondary Fire</td>\n",
       "      <td>Outdoor</td>\n",
       "      <td>507750</td>\n",
       "      <td>182850</td>\n",
       "      <td>210</td>\n",
       "      <td>Hillingdon</td>\n",
       "      <td>météo très défavorable</td>\n",
       "      <td>moyenne</td>\n",
       "    </tr>\n",
       "    <tr>\n",
       "      <th>3</th>\n",
       "      <td>3</td>\n",
       "      <td>2009</td>\n",
       "      <td>0</td>\n",
       "      <td>Secondary Fire</td>\n",
       "      <td>Outdoor</td>\n",
       "      <td>531050</td>\n",
       "      <td>185350</td>\n",
       "      <td>233</td>\n",
       "      <td>Holloway</td>\n",
       "      <td>météo très défavorable</td>\n",
       "      <td>moyenne</td>\n",
       "    </tr>\n",
       "    <tr>\n",
       "      <th>4</th>\n",
       "      <td>4</td>\n",
       "      <td>2009</td>\n",
       "      <td>0</td>\n",
       "      <td>AFA</td>\n",
       "      <td>Dwelling</td>\n",
       "      <td>529450</td>\n",
       "      <td>185250</td>\n",
       "      <td>172</td>\n",
       "      <td>Kentish Town</td>\n",
       "      <td>météo très défavorable</td>\n",
       "      <td>moyenne</td>\n",
       "    </tr>\n",
       "  </tbody>\n",
       "</table>\n",
       "</div>"
      ],
      "text/plain": [
       "   Unnamed: 0  CalYear  HourOfCall StopCodeDescription PropertyCategory  \\\n",
       "0           0     2009           0     Special Service     Road Vehicle   \n",
       "1           1     2009           0      Secondary Fire          Outdoor   \n",
       "2           2     2009           0      Secondary Fire          Outdoor   \n",
       "3           3     2009           0      Secondary Fire          Outdoor   \n",
       "4           4     2009           0                 AFA         Dwelling   \n",
       "\n",
       "   Easting_rounded  Northing_rounded  FirstPumpArriving_AttendanceTime  \\\n",
       "0           528650            176850                               319   \n",
       "1           533750            194450                               308   \n",
       "2           507750            182850                               210   \n",
       "3           531050            185350                               233   \n",
       "4           529450            185250                               172   \n",
       "\n",
       "  DeployedFromStation_Name                   Meteo Visibility  \n",
       "0                Battersea  météo très défavorable    moyenne  \n",
       "1                 Edmonton  météo très défavorable    moyenne  \n",
       "2               Hillingdon  météo très défavorable    moyenne  \n",
       "3                 Holloway  météo très défavorable    moyenne  \n",
       "4             Kentish Town  météo très défavorable    moyenne  "
      ]
     },
     "execution_count": 8,
     "metadata": {},
     "output_type": "execute_result"
    }
   ],
   "source": [
    "LFB2.head()"
   ]
  },
  {
   "cell_type": "code",
   "execution_count": 9,
   "id": "4a68fdf3-6d95-489f-b8b9-24f59f5df985",
   "metadata": {},
   "outputs": [],
   "source": [
    "LFB2.drop(columns = ['Unnamed: 0'], inplace = True)"
   ]
  },
  {
   "cell_type": "code",
   "execution_count": 17,
   "id": "1ec32fd7-ee44-490e-8b1a-8639aa7dddbb",
   "metadata": {},
   "outputs": [
    {
     "data": {
      "text/html": [
       "<div>\n",
       "<style scoped>\n",
       "    .dataframe tbody tr th:only-of-type {\n",
       "        vertical-align: middle;\n",
       "    }\n",
       "\n",
       "    .dataframe tbody tr th {\n",
       "        vertical-align: top;\n",
       "    }\n",
       "\n",
       "    .dataframe thead th {\n",
       "        text-align: right;\n",
       "    }\n",
       "</style>\n",
       "<table border=\"1\" class=\"dataframe\">\n",
       "  <thead>\n",
       "    <tr style=\"text-align: right;\">\n",
       "      <th></th>\n",
       "      <th>CalYear</th>\n",
       "      <th>HourOfCall</th>\n",
       "      <th>StopCodeDescription</th>\n",
       "      <th>PropertyCategory</th>\n",
       "      <th>Easting_rounded</th>\n",
       "      <th>Northing_rounded</th>\n",
       "      <th>FirstPumpArriving_AttendanceTime</th>\n",
       "      <th>DeployedFromStation_Name</th>\n",
       "      <th>Meteo</th>\n",
       "      <th>Visibility</th>\n",
       "    </tr>\n",
       "  </thead>\n",
       "  <tbody>\n",
       "    <tr>\n",
       "      <th>0</th>\n",
       "      <td>2009</td>\n",
       "      <td>0</td>\n",
       "      <td>Special Service</td>\n",
       "      <td>Road Vehicle</td>\n",
       "      <td>528650</td>\n",
       "      <td>176850</td>\n",
       "      <td>319</td>\n",
       "      <td>Battersea</td>\n",
       "      <td>météo très défavorable</td>\n",
       "      <td>moyenne</td>\n",
       "    </tr>\n",
       "    <tr>\n",
       "      <th>1</th>\n",
       "      <td>2009</td>\n",
       "      <td>0</td>\n",
       "      <td>Secondary Fire</td>\n",
       "      <td>Outdoor</td>\n",
       "      <td>533750</td>\n",
       "      <td>194450</td>\n",
       "      <td>308</td>\n",
       "      <td>Edmonton</td>\n",
       "      <td>météo très défavorable</td>\n",
       "      <td>moyenne</td>\n",
       "    </tr>\n",
       "    <tr>\n",
       "      <th>2</th>\n",
       "      <td>2009</td>\n",
       "      <td>0</td>\n",
       "      <td>Secondary Fire</td>\n",
       "      <td>Outdoor</td>\n",
       "      <td>507750</td>\n",
       "      <td>182850</td>\n",
       "      <td>210</td>\n",
       "      <td>Hillingdon</td>\n",
       "      <td>météo très défavorable</td>\n",
       "      <td>moyenne</td>\n",
       "    </tr>\n",
       "    <tr>\n",
       "      <th>3</th>\n",
       "      <td>2009</td>\n",
       "      <td>0</td>\n",
       "      <td>Secondary Fire</td>\n",
       "      <td>Outdoor</td>\n",
       "      <td>531050</td>\n",
       "      <td>185350</td>\n",
       "      <td>233</td>\n",
       "      <td>Holloway</td>\n",
       "      <td>météo très défavorable</td>\n",
       "      <td>moyenne</td>\n",
       "    </tr>\n",
       "    <tr>\n",
       "      <th>4</th>\n",
       "      <td>2009</td>\n",
       "      <td>0</td>\n",
       "      <td>AFA</td>\n",
       "      <td>Dwelling</td>\n",
       "      <td>529450</td>\n",
       "      <td>185250</td>\n",
       "      <td>172</td>\n",
       "      <td>Kentish Town</td>\n",
       "      <td>météo très défavorable</td>\n",
       "      <td>moyenne</td>\n",
       "    </tr>\n",
       "  </tbody>\n",
       "</table>\n",
       "</div>"
      ],
      "text/plain": [
       "   CalYear  HourOfCall StopCodeDescription PropertyCategory  Easting_rounded  \\\n",
       "0     2009           0     Special Service     Road Vehicle           528650   \n",
       "1     2009           0      Secondary Fire          Outdoor           533750   \n",
       "2     2009           0      Secondary Fire          Outdoor           507750   \n",
       "3     2009           0      Secondary Fire          Outdoor           531050   \n",
       "4     2009           0                 AFA         Dwelling           529450   \n",
       "\n",
       "   Northing_rounded  FirstPumpArriving_AttendanceTime  \\\n",
       "0            176850                               319   \n",
       "1            194450                               308   \n",
       "2            182850                               210   \n",
       "3            185350                               233   \n",
       "4            185250                               172   \n",
       "\n",
       "  DeployedFromStation_Name                   Meteo Visibility  \n",
       "0                Battersea  météo très défavorable    moyenne  \n",
       "1                 Edmonton  météo très défavorable    moyenne  \n",
       "2               Hillingdon  météo très défavorable    moyenne  \n",
       "3                 Holloway  météo très défavorable    moyenne  \n",
       "4             Kentish Town  météo très défavorable    moyenne  "
      ]
     },
     "execution_count": 17,
     "metadata": {},
     "output_type": "execute_result"
    }
   ],
   "source": [
    "LFB2.head()"
   ]
  },
  {
   "cell_type": "markdown",
   "id": "2af258f6-4708-4b89-afec-374bd0d2c35e",
   "metadata": {},
   "source": [
    "### Descriptif de la variable cible afin de vérifier la suppression correcte des outliers :"
   ]
  },
  {
   "cell_type": "code",
   "execution_count": 25,
   "id": "fa7d3ba2-4786-4ba3-98c6-84398117a4ad",
   "metadata": {},
   "outputs": [
    {
     "data": {
      "text/plain": [
       "count    1.541635e+06\n",
       "mean     3.117042e+02\n",
       "std      1.217369e+02\n",
       "min      1.000000e+00\n",
       "25%      2.310000e+02\n",
       "50%      2.960000e+02\n",
       "75%      3.760000e+02\n",
       "max      7.800000e+02\n",
       "Name: FirstPumpArriving_AttendanceTime, dtype: float64"
      ]
     },
     "execution_count": 25,
     "metadata": {},
     "output_type": "execute_result"
    }
   ],
   "source": [
    "LFB2['FirstPumpArriving_AttendanceTime'].describe()"
   ]
  },
  {
   "cell_type": "markdown",
   "id": "ff5ce6a5-377a-4caf-83bd-90b6b8d5d2b7",
   "metadata": {},
   "source": [
    "### Split entre la variable cible et les variables explicatives :"
   ]
  },
  {
   "cell_type": "code",
   "execution_count": 27,
   "id": "ffe998dc-d478-4ca2-bf7f-2daa650b9ccd",
   "metadata": {},
   "outputs": [],
   "source": [
    "feats =  LFB2.drop(columns = ['FirstPumpArriving_AttendanceTime'], axis = 1)\n",
    "target = LFB2['FirstPumpArriving_AttendanceTime']"
   ]
  },
  {
   "cell_type": "code",
   "execution_count": 28,
   "id": "b583a9dc-4c1a-4e8a-a0e3-7046a1aaadf2",
   "metadata": {},
   "outputs": [
    {
     "data": {
      "text/plain": [
       "CalYear                       0\n",
       "HourOfCall                    0\n",
       "StopCodeDescription           0\n",
       "PropertyCategory              0\n",
       "Easting_rounded               0\n",
       "Northing_rounded              0\n",
       "DeployedFromStation_Name      7\n",
       "Meteo                       238\n",
       "Visibility                  238\n",
       "dtype: int64"
      ]
     },
     "execution_count": 28,
     "metadata": {},
     "output_type": "execute_result"
    }
   ],
   "source": [
    "# Compte des valeurs manquantes de chaque variables explicatives \n",
    "feats.isna().sum()"
   ]
  },
  {
   "cell_type": "markdown",
   "id": "4613651b-871c-4114-ac71-67da7eaa48b5",
   "metadata": {},
   "source": [
    "### Création d'un simple imputer pour remplacer les valeurs manquantes par leur mode :"
   ]
  },
  {
   "cell_type": "code",
   "execution_count": 30,
   "id": "751a92cf-6f65-4a78-9a17-bbefe38c43ee",
   "metadata": {},
   "outputs": [],
   "source": [
    "from sklearn.impute import SimpleImputer"
   ]
  },
  {
   "cell_type": "code",
   "execution_count": 31,
   "id": "0d5d0c08-1d47-46ee-b9df-af06c38d00b0",
   "metadata": {},
   "outputs": [],
   "source": [
    "import numpy as np \n",
    "imputer = SimpleImputer(missing_values=np.nan, strategy='most_frequent')"
   ]
  },
  {
   "cell_type": "markdown",
   "id": "b40d8156-7c36-4426-b2c3-f032c2ca32d2",
   "metadata": {},
   "source": [
    "### Séparation des variables en un jeu d'entraînement et un jeu de test :"
   ]
  },
  {
   "cell_type": "code",
   "execution_count": 33,
   "id": "573f6a01-b50d-4064-b1a8-3e9c734b554d",
   "metadata": {},
   "outputs": [],
   "source": [
    "from sklearn.model_selection import train_test_split"
   ]
  },
  {
   "cell_type": "code",
   "execution_count": 36,
   "id": "f3ca3459-a4c4-4d86-907f-4f91d464e408",
   "metadata": {},
   "outputs": [],
   "source": [
    "X_train, X_test, y_train, y_test = train_test_split(feats, target, test_size = 0.2,\n",
    "                                                    random_state = 42)\n",
    "if isinstance(X_train, np.ndarray):\n",
    "    X_train = pd.DataFrame(X_train, columns=feats.columns)\n",
    "    X_test = pd.DataFrame(X_test, columns=feats.columns)"
   ]
  },
  {
   "cell_type": "markdown",
   "id": "88da6c7a-d8d3-464f-a13b-9e5d113a1140",
   "metadata": {},
   "source": [
    "#### Remplacement des valeurs manquantes :"
   ]
  },
  {
   "cell_type": "code",
   "execution_count": 40,
   "id": "273911db-8870-49b6-94d6-7880e2e91247",
   "metadata": {},
   "outputs": [],
   "source": [
    "X_train = imputer.fit_transform(X_train)\n",
    "X_test = imputer.transform(X_test)"
   ]
  },
  {
   "cell_type": "markdown",
   "id": "a8e6dca1-ab51-4ef6-99f0-751e632cbc6c",
   "metadata": {},
   "source": [
    "### Encodage des Variables catégorielles avec Frequency Encoding :"
   ]
  },
  {
   "cell_type": "code",
   "execution_count": 42,
   "id": "3733c7cc-0bee-46a8-8efa-4d70260f5272",
   "metadata": {},
   "outputs": [],
   "source": [
    "columns = [\"DeployedFromStation_Name\",\"Easting_rounded\",\"Northing_rounded\"]"
   ]
  },
  {
   "cell_type": "code",
   "execution_count": 43,
   "id": "2c4409a8-5a01-4363-b4d3-ca987e35125f",
   "metadata": {},
   "outputs": [],
   "source": [
    "X_train = pd.DataFrame(X_train, columns= ['CalYear','HourOfCall','StopCodeDescription',\n",
    "                                          'PropertyCategory','Easting_rounded','Northing_rounded',\n",
    "                                          'DeployedFromStation_Name','Meteo','Visibility'])\n",
    "X_test = pd.DataFrame(X_test, columns=['CalYear','HourOfCall','StopCodeDescription',\n",
    "                                          'PropertyCategory','Easting_rounded','Northing_rounded',\n",
    "                                          'DeployedFromStation_Name','Meteo','Visibility'])"
   ]
  },
  {
   "cell_type": "code",
   "execution_count": 47,
   "id": "96da0789-3530-48e1-a9fa-a221c1aad8e0",
   "metadata": {},
   "outputs": [],
   "source": [
    "frequencies = {}\n",
    "\n",
    "for col in columns:\n",
    "    frequencies[col] = X_train[col].value_counts(normalize=True).to_dict()\n",
    "    frequencies[col][\"Unknown\"] = 0 \n",
    "\n",
    "X_train_encoded = X_train.copy()\n",
    "X_test_encoded = X_test.copy()\n",
    "\n",
    "for col in columns:\n",
    "    X_train_encoded[col] = X_train_encoded[col].map(frequencies[col])\n",
    "    X_test_encoded[col] = X_test_encoded[col].map(frequencies[col]).fillna(frequencies[col][\"Unknown\"])"
   ]
  },
  {
   "cell_type": "code",
   "execution_count": 48,
   "id": "d471f1e2-18dd-4865-9f75-e05a2fcb0438",
   "metadata": {},
   "outputs": [
    {
     "name": "stdout",
     "output_type": "stream",
     "text": [
      "<class 'pandas.core.frame.DataFrame'>\n",
      "(1233308, 9)\n",
      "(308327, 9)\n"
     ]
    }
   ],
   "source": [
    "print(type(X_train))\n",
    "print(X_train.shape)  \n",
    "print(X_test.shape)"
   ]
  },
  {
   "cell_type": "code",
   "execution_count": 50,
   "id": "59bc37ea-c8f1-48cc-b3de-6f267c63b5e9",
   "metadata": {},
   "outputs": [
    {
     "data": {
      "text/plain": [
       "pandas.core.frame.DataFrame"
      ]
     },
     "execution_count": 50,
     "metadata": {},
     "output_type": "execute_result"
    }
   ],
   "source": [
    "type(X_train)"
   ]
  },
  {
   "cell_type": "markdown",
   "id": "4190f1f8-f746-459d-a6b9-caa3468f4e0d",
   "metadata": {},
   "source": [
    "### Encodage des variables ordinales avec Ordinal Encoding :"
   ]
  },
  {
   "cell_type": "code",
   "execution_count": 52,
   "id": "0cf9ab2f-4744-46ae-9421-6b2b293e18bd",
   "metadata": {},
   "outputs": [],
   "source": [
    "from sklearn.preprocessing import OrdinalEncoder"
   ]
  },
  {
   "cell_type": "code",
   "execution_count": 53,
   "id": "dcf0403e-d1a1-4816-8c54-f49f6664f5ad",
   "metadata": {},
   "outputs": [],
   "source": [
    "encoder1 = OrdinalEncoder(categories = [['météo très défavorable', 'météo défavorable',\n",
    "                                         'météo correcte', 'météo favorable', 'météo idéale']])\n",
    "encoder2 = OrdinalEncoder(categories = [['très mauvaise', 'moyenne', 'très bonne']])"
   ]
  },
  {
   "cell_type": "code",
   "execution_count": 54,
   "id": "b90c6b08-24a1-476b-9f0f-f416a95d8f60",
   "metadata": {},
   "outputs": [],
   "source": [
    "X_train_encoded['Meteo_encoded'] = encoder1.fit_transform(X_train_encoded[['Meteo']])\n",
    "X_test_encoded['Meteo_encoded'] = encoder1.transform(X_test_encoded[['Meteo']])"
   ]
  },
  {
   "cell_type": "code",
   "execution_count": 55,
   "id": "c19b4c64-ce88-4221-8a11-70e581c14488",
   "metadata": {},
   "outputs": [],
   "source": [
    "X_train_encoded['Visibility_encoded'] = encoder2.fit_transform(X_train_encoded[['Visibility']])\n",
    "X_test_encoded['Visibility_encoded'] = encoder2.transform(X_test_encoded[['Visibility']])"
   ]
  },
  {
   "cell_type": "markdown",
   "id": "16921922-ff30-4db2-b2bf-5f15a9a41bf1",
   "metadata": {},
   "source": [
    "### Encodage des variables catégorielles à moins de 15 valeurs avec OneHotEncoding "
   ]
  },
  {
   "cell_type": "code",
   "execution_count": 57,
   "id": "2b48e6ab-1a86-46c5-8962-79a78203a4bc",
   "metadata": {},
   "outputs": [],
   "source": [
    "from sklearn.preprocessing import OneHotEncoder\n",
    "col_cat = ['StopCodeDescription','PropertyCategory']\n",
    "encoder = OneHotEncoder(drop='first', sparse_output = False, handle_unknown = 'ignore')\n",
    "X_train_code = encoder.fit_transform(X_train_encoded[col_cat])\n",
    "X_test_code = encoder.transform(X_test_encoded[col_cat])\n",
    "encoded_columns = encoder.get_feature_names_out(col_cat)\n",
    "X_train_code_df = pd.DataFrame(X_train_code, columns = encoded_columns)\n",
    "X_test_code_df = pd.DataFrame(X_test_code, columns = encoded_columns)\n",
    "X_train_encoded = X_train_encoded.reset_index(drop = True)\n",
    "X_train_code_df = X_train_code_df.reset_index(drop = True)\n",
    "\n",
    "X_test_encoded = X_test_encoded.reset_index(drop = True)\n",
    "X_test_code_df = X_test_code_df.reset_index(drop = True)"
   ]
  },
  {
   "cell_type": "markdown",
   "id": "72a9bfd5-2f40-449e-89b2-b948879754ec",
   "metadata": {},
   "source": [
    "### Standardisation des données numériques :"
   ]
  },
  {
   "cell_type": "code",
   "execution_count": 62,
   "id": "6f71ad01-4b7e-4d6e-9e24-398fbdd9d2e3",
   "metadata": {},
   "outputs": [],
   "source": [
    "from sklearn.preprocessing import StandardScaler\n",
    "scaler = StandardScaler()\n",
    "X_train_scaled = X_train.copy()\n",
    "X_test_scaled = X_test.copy()\n",
    "X_train_scaled = scaler.fit_transform(X_train_scaled[['HourOfCall', 'CalYear']])\n",
    "X_test_scaled = scaler.transform(X_test_scaled[['HourOfCall','CalYear']])\n",
    "X_train_scaled_df = pd.DataFrame(X_train_scaled, columns = ['Hour','Year'])\n",
    "X_train_scaled_df = X_train_scaled_df.reset_index(drop = True)\n",
    "X_test_scaled_df = pd.DataFrame(X_test_scaled, columns = ['Hour','Year'])\n",
    "X_test_scaled_df = X_test_scaled_df.reset_index(drop = True)"
   ]
  },
  {
   "cell_type": "markdown",
   "id": "f5ebdc64-7d25-45d4-a095-c4a86b7a46ca",
   "metadata": {},
   "source": [
    "### Concaténation des DataFrames :"
   ]
  },
  {
   "cell_type": "code",
   "execution_count": 67,
   "id": "4539e7df-dc1f-477a-9031-193de78068c0",
   "metadata": {},
   "outputs": [],
   "source": [
    "X_train = pd.concat([X_train_encoded, X_train_code_df, X_train_scaled_df], axis = 1)\n",
    "X_test = pd.concat([X_test_encoded, X_test_code_df, X_test_scaled_df], axis = 1)"
   ]
  },
  {
   "cell_type": "code",
   "execution_count": 75,
   "id": "39cdc500-fc0b-41f0-b877-1a01568308b7",
   "metadata": {},
   "outputs": [
    {
     "data": {
      "text/html": [
       "<div>\n",
       "<style scoped>\n",
       "    .dataframe tbody tr th:only-of-type {\n",
       "        vertical-align: middle;\n",
       "    }\n",
       "\n",
       "    .dataframe tbody tr th {\n",
       "        vertical-align: top;\n",
       "    }\n",
       "\n",
       "    .dataframe thead th {\n",
       "        text-align: right;\n",
       "    }\n",
       "</style>\n",
       "<table border=\"1\" class=\"dataframe\">\n",
       "  <thead>\n",
       "    <tr style=\"text-align: right;\">\n",
       "      <th></th>\n",
       "      <th>CalYear</th>\n",
       "      <th>HourOfCall</th>\n",
       "      <th>StopCodeDescription</th>\n",
       "      <th>PropertyCategory</th>\n",
       "      <th>Easting_rounded</th>\n",
       "      <th>Northing_rounded</th>\n",
       "      <th>DeployedFromStation_Name</th>\n",
       "      <th>Meteo</th>\n",
       "      <th>Visibility</th>\n",
       "      <th>Meteo_encoded</th>\n",
       "      <th>...</th>\n",
       "      <th>PropertyCategory_Boat</th>\n",
       "      <th>PropertyCategory_Dwelling</th>\n",
       "      <th>PropertyCategory_Non Residential</th>\n",
       "      <th>PropertyCategory_Other Residential</th>\n",
       "      <th>PropertyCategory_Outdoor</th>\n",
       "      <th>PropertyCategory_Outdoor Structure</th>\n",
       "      <th>PropertyCategory_Rail Vehicle</th>\n",
       "      <th>PropertyCategory_Road Vehicle</th>\n",
       "      <th>Hour</th>\n",
       "      <th>Year</th>\n",
       "    </tr>\n",
       "  </thead>\n",
       "  <tbody>\n",
       "    <tr>\n",
       "      <th>0</th>\n",
       "      <td>2019</td>\n",
       "      <td>20</td>\n",
       "      <td>AFA</td>\n",
       "      <td>Other Residential</td>\n",
       "      <td>0.001883</td>\n",
       "      <td>0.003372</td>\n",
       "      <td>0.006311</td>\n",
       "      <td>météo correcte</td>\n",
       "      <td>moyenne</td>\n",
       "      <td>2.0</td>\n",
       "      <td>...</td>\n",
       "      <td>0.0</td>\n",
       "      <td>0.0</td>\n",
       "      <td>0.0</td>\n",
       "      <td>1.0</td>\n",
       "      <td>0.0</td>\n",
       "      <td>0.0</td>\n",
       "      <td>0.0</td>\n",
       "      <td>0.0</td>\n",
       "      <td>1.047141</td>\n",
       "      <td>0.530967</td>\n",
       "    </tr>\n",
       "    <tr>\n",
       "      <th>1</th>\n",
       "      <td>2014</td>\n",
       "      <td>18</td>\n",
       "      <td>False alarm - Good intent</td>\n",
       "      <td>Dwelling</td>\n",
       "      <td>0.004413</td>\n",
       "      <td>0.001692</td>\n",
       "      <td>0.007733</td>\n",
       "      <td>météo favorable</td>\n",
       "      <td>moyenne</td>\n",
       "      <td>3.0</td>\n",
       "      <td>...</td>\n",
       "      <td>0.0</td>\n",
       "      <td>1.0</td>\n",
       "      <td>0.0</td>\n",
       "      <td>0.0</td>\n",
       "      <td>0.0</td>\n",
       "      <td>0.0</td>\n",
       "      <td>0.0</td>\n",
       "      <td>0.0</td>\n",
       "      <td>0.728869</td>\n",
       "      <td>-0.501276</td>\n",
       "    </tr>\n",
       "    <tr>\n",
       "      <th>2</th>\n",
       "      <td>2017</td>\n",
       "      <td>16</td>\n",
       "      <td>Special Service</td>\n",
       "      <td>Dwelling</td>\n",
       "      <td>0.003442</td>\n",
       "      <td>0.007530</td>\n",
       "      <td>0.016697</td>\n",
       "      <td>météo défavorable</td>\n",
       "      <td>moyenne</td>\n",
       "      <td>1.0</td>\n",
       "      <td>...</td>\n",
       "      <td>0.0</td>\n",
       "      <td>1.0</td>\n",
       "      <td>0.0</td>\n",
       "      <td>0.0</td>\n",
       "      <td>0.0</td>\n",
       "      <td>0.0</td>\n",
       "      <td>0.0</td>\n",
       "      <td>0.0</td>\n",
       "      <td>0.410597</td>\n",
       "      <td>0.118070</td>\n",
       "    </tr>\n",
       "    <tr>\n",
       "      <th>3</th>\n",
       "      <td>2010</td>\n",
       "      <td>0</td>\n",
       "      <td>AFA</td>\n",
       "      <td>Non Residential</td>\n",
       "      <td>0.003616</td>\n",
       "      <td>0.002784</td>\n",
       "      <td>0.007116</td>\n",
       "      <td>météo favorable</td>\n",
       "      <td>moyenne</td>\n",
       "      <td>3.0</td>\n",
       "      <td>...</td>\n",
       "      <td>0.0</td>\n",
       "      <td>0.0</td>\n",
       "      <td>1.0</td>\n",
       "      <td>0.0</td>\n",
       "      <td>0.0</td>\n",
       "      <td>0.0</td>\n",
       "      <td>0.0</td>\n",
       "      <td>0.0</td>\n",
       "      <td>-2.135580</td>\n",
       "      <td>-1.327070</td>\n",
       "    </tr>\n",
       "    <tr>\n",
       "      <th>4</th>\n",
       "      <td>2024</td>\n",
       "      <td>15</td>\n",
       "      <td>Secondary Fire</td>\n",
       "      <td>Outdoor</td>\n",
       "      <td>0.001578</td>\n",
       "      <td>0.002732</td>\n",
       "      <td>0.009881</td>\n",
       "      <td>météo favorable</td>\n",
       "      <td>moyenne</td>\n",
       "      <td>3.0</td>\n",
       "      <td>...</td>\n",
       "      <td>0.0</td>\n",
       "      <td>0.0</td>\n",
       "      <td>0.0</td>\n",
       "      <td>0.0</td>\n",
       "      <td>1.0</td>\n",
       "      <td>0.0</td>\n",
       "      <td>0.0</td>\n",
       "      <td>0.0</td>\n",
       "      <td>0.251461</td>\n",
       "      <td>1.563210</td>\n",
       "    </tr>\n",
       "  </tbody>\n",
       "</table>\n",
       "<p>5 rows × 29 columns</p>\n",
       "</div>"
      ],
      "text/plain": [
       "  CalYear HourOfCall        StopCodeDescription   PropertyCategory  \\\n",
       "0    2019         20                        AFA  Other Residential   \n",
       "1    2014         18  False alarm - Good intent           Dwelling   \n",
       "2    2017         16            Special Service           Dwelling   \n",
       "3    2010          0                        AFA    Non Residential   \n",
       "4    2024         15             Secondary Fire            Outdoor   \n",
       "\n",
       "   Easting_rounded  Northing_rounded  DeployedFromStation_Name  \\\n",
       "0         0.001883          0.003372                  0.006311   \n",
       "1         0.004413          0.001692                  0.007733   \n",
       "2         0.003442          0.007530                  0.016697   \n",
       "3         0.003616          0.002784                  0.007116   \n",
       "4         0.001578          0.002732                  0.009881   \n",
       "\n",
       "               Meteo Visibility  Meteo_encoded  ...  PropertyCategory_Boat  \\\n",
       "0     météo correcte    moyenne            2.0  ...                    0.0   \n",
       "1    météo favorable    moyenne            3.0  ...                    0.0   \n",
       "2  météo défavorable    moyenne            1.0  ...                    0.0   \n",
       "3    météo favorable    moyenne            3.0  ...                    0.0   \n",
       "4    météo favorable    moyenne            3.0  ...                    0.0   \n",
       "\n",
       "   PropertyCategory_Dwelling  PropertyCategory_Non Residential  \\\n",
       "0                        0.0                               0.0   \n",
       "1                        1.0                               0.0   \n",
       "2                        1.0                               0.0   \n",
       "3                        0.0                               1.0   \n",
       "4                        0.0                               0.0   \n",
       "\n",
       "   PropertyCategory_Other Residential  PropertyCategory_Outdoor  \\\n",
       "0                                 1.0                       0.0   \n",
       "1                                 0.0                       0.0   \n",
       "2                                 0.0                       0.0   \n",
       "3                                 0.0                       0.0   \n",
       "4                                 0.0                       1.0   \n",
       "\n",
       "   PropertyCategory_Outdoor Structure  PropertyCategory_Rail Vehicle  \\\n",
       "0                                 0.0                            0.0   \n",
       "1                                 0.0                            0.0   \n",
       "2                                 0.0                            0.0   \n",
       "3                                 0.0                            0.0   \n",
       "4                                 0.0                            0.0   \n",
       "\n",
       "   PropertyCategory_Road Vehicle      Hour      Year  \n",
       "0                            0.0  1.047141  0.530967  \n",
       "1                            0.0  0.728869 -0.501276  \n",
       "2                            0.0  0.410597  0.118070  \n",
       "3                            0.0 -2.135580 -1.327070  \n",
       "4                            0.0  0.251461  1.563210  \n",
       "\n",
       "[5 rows x 29 columns]"
      ]
     },
     "execution_count": 75,
     "metadata": {},
     "output_type": "execute_result"
    }
   ],
   "source": [
    "X_train.head()"
   ]
  },
  {
   "cell_type": "code",
   "execution_count": 77,
   "id": "7f861415-ee2d-477b-aa9b-e0a0ed896289",
   "metadata": {},
   "outputs": [
    {
     "name": "stdout",
     "output_type": "stream",
     "text": [
      "<class 'pandas.core.frame.DataFrame'>\n",
      "RangeIndex: 1233308 entries, 0 to 1233307\n",
      "Data columns (total 29 columns):\n",
      " #   Column                                              Non-Null Count    Dtype  \n",
      "---  ------                                              --------------    -----  \n",
      " 0   CalYear                                             1233308 non-null  object \n",
      " 1   HourOfCall                                          1233308 non-null  object \n",
      " 2   StopCodeDescription                                 1233308 non-null  object \n",
      " 3   PropertyCategory                                    1233308 non-null  object \n",
      " 4   Easting_rounded                                     1233308 non-null  float64\n",
      " 5   Northing_rounded                                    1233308 non-null  float64\n",
      " 6   DeployedFromStation_Name                            1233308 non-null  float64\n",
      " 7   Meteo                                               1233308 non-null  object \n",
      " 8   Visibility                                          1233308 non-null  object \n",
      " 9   Meteo_encoded                                       1233308 non-null  float64\n",
      " 10  Visibility_encoded                                  1233308 non-null  float64\n",
      " 11  StopCodeDescription_Chimney Fire                    1233308 non-null  float64\n",
      " 12  StopCodeDescription_False alarm - Good intent       1233308 non-null  float64\n",
      " 13  StopCodeDescription_False alarm - Malicious         1233308 non-null  float64\n",
      " 14  StopCodeDescription_Late Call                       1233308 non-null  float64\n",
      " 15  StopCodeDescription_Primary Fire                    1233308 non-null  float64\n",
      " 16  StopCodeDescription_Secondary Fire                  1233308 non-null  float64\n",
      " 17  StopCodeDescription_Special Service                 1233308 non-null  float64\n",
      " 18  StopCodeDescription_Use of Special Operations Room  1233308 non-null  float64\n",
      " 19  PropertyCategory_Boat                               1233308 non-null  float64\n",
      " 20  PropertyCategory_Dwelling                           1233308 non-null  float64\n",
      " 21  PropertyCategory_Non Residential                    1233308 non-null  float64\n",
      " 22  PropertyCategory_Other Residential                  1233308 non-null  float64\n",
      " 23  PropertyCategory_Outdoor                            1233308 non-null  float64\n",
      " 24  PropertyCategory_Outdoor Structure                  1233308 non-null  float64\n",
      " 25  PropertyCategory_Rail Vehicle                       1233308 non-null  float64\n",
      " 26  PropertyCategory_Road Vehicle                       1233308 non-null  float64\n",
      " 27  Hour                                                1233308 non-null  float64\n",
      " 28  Year                                                1233308 non-null  float64\n",
      "dtypes: float64(23), object(6)\n",
      "memory usage: 272.9+ MB\n"
     ]
    }
   ],
   "source": [
    "X_train.info()"
   ]
  },
  {
   "cell_type": "code",
   "execution_count": 79,
   "id": "c3a3476d-3d1d-4161-a862-2dd48f17f030",
   "metadata": {},
   "outputs": [
    {
     "data": {
      "text/plain": [
       "array([2., 3., 1., 4., 0.])"
      ]
     },
     "execution_count": 79,
     "metadata": {},
     "output_type": "execute_result"
    }
   ],
   "source": [
    "X_train['Meteo_encoded'].unique()"
   ]
  },
  {
   "cell_type": "markdown",
   "id": "c640c6ba-447c-4984-8c09-ab8f7f4dd26e",
   "metadata": {},
   "source": [
    "### Suppression des colonnes originale des variables encodées : "
   ]
  },
  {
   "cell_type": "code",
   "execution_count": 82,
   "id": "1eaa8d82-f48a-4e67-9b68-3e8a80b36008",
   "metadata": {},
   "outputs": [],
   "source": [
    "X_train_enc = X_train.drop(['StopCodeDescription','PropertyCategory', 'Meteo', 'Visibility', 'HourOfCall','CalYear'], axis = 1)\n",
    "X_test_enc = X_test.drop(['StopCodeDescription','PropertyCategory', 'Meteo', 'Visibility', 'HourOfCall','CalYear'], axis = 1)"
   ]
  },
  {
   "cell_type": "code",
   "execution_count": 84,
   "id": "4127152d-68a1-4bff-9d38-22abb02378c6",
   "metadata": {},
   "outputs": [
    {
     "data": {
      "text/html": [
       "<div>\n",
       "<style scoped>\n",
       "    .dataframe tbody tr th:only-of-type {\n",
       "        vertical-align: middle;\n",
       "    }\n",
       "\n",
       "    .dataframe tbody tr th {\n",
       "        vertical-align: top;\n",
       "    }\n",
       "\n",
       "    .dataframe thead th {\n",
       "        text-align: right;\n",
       "    }\n",
       "</style>\n",
       "<table border=\"1\" class=\"dataframe\">\n",
       "  <thead>\n",
       "    <tr style=\"text-align: right;\">\n",
       "      <th></th>\n",
       "      <th>Easting_rounded</th>\n",
       "      <th>Northing_rounded</th>\n",
       "      <th>DeployedFromStation_Name</th>\n",
       "      <th>Meteo_encoded</th>\n",
       "      <th>Visibility_encoded</th>\n",
       "      <th>StopCodeDescription_Chimney Fire</th>\n",
       "      <th>StopCodeDescription_False alarm - Good intent</th>\n",
       "      <th>StopCodeDescription_False alarm - Malicious</th>\n",
       "      <th>StopCodeDescription_Late Call</th>\n",
       "      <th>StopCodeDescription_Primary Fire</th>\n",
       "      <th>...</th>\n",
       "      <th>PropertyCategory_Boat</th>\n",
       "      <th>PropertyCategory_Dwelling</th>\n",
       "      <th>PropertyCategory_Non Residential</th>\n",
       "      <th>PropertyCategory_Other Residential</th>\n",
       "      <th>PropertyCategory_Outdoor</th>\n",
       "      <th>PropertyCategory_Outdoor Structure</th>\n",
       "      <th>PropertyCategory_Rail Vehicle</th>\n",
       "      <th>PropertyCategory_Road Vehicle</th>\n",
       "      <th>Hour</th>\n",
       "      <th>Year</th>\n",
       "    </tr>\n",
       "  </thead>\n",
       "  <tbody>\n",
       "    <tr>\n",
       "      <th>0</th>\n",
       "      <td>0.001883</td>\n",
       "      <td>0.003372</td>\n",
       "      <td>0.006311</td>\n",
       "      <td>2.0</td>\n",
       "      <td>1.0</td>\n",
       "      <td>0.0</td>\n",
       "      <td>0.0</td>\n",
       "      <td>0.0</td>\n",
       "      <td>0.0</td>\n",
       "      <td>0.0</td>\n",
       "      <td>...</td>\n",
       "      <td>0.0</td>\n",
       "      <td>0.0</td>\n",
       "      <td>0.0</td>\n",
       "      <td>1.0</td>\n",
       "      <td>0.0</td>\n",
       "      <td>0.0</td>\n",
       "      <td>0.0</td>\n",
       "      <td>0.0</td>\n",
       "      <td>1.047141</td>\n",
       "      <td>0.530967</td>\n",
       "    </tr>\n",
       "    <tr>\n",
       "      <th>1</th>\n",
       "      <td>0.004413</td>\n",
       "      <td>0.001692</td>\n",
       "      <td>0.007733</td>\n",
       "      <td>3.0</td>\n",
       "      <td>1.0</td>\n",
       "      <td>0.0</td>\n",
       "      <td>1.0</td>\n",
       "      <td>0.0</td>\n",
       "      <td>0.0</td>\n",
       "      <td>0.0</td>\n",
       "      <td>...</td>\n",
       "      <td>0.0</td>\n",
       "      <td>1.0</td>\n",
       "      <td>0.0</td>\n",
       "      <td>0.0</td>\n",
       "      <td>0.0</td>\n",
       "      <td>0.0</td>\n",
       "      <td>0.0</td>\n",
       "      <td>0.0</td>\n",
       "      <td>0.728869</td>\n",
       "      <td>-0.501276</td>\n",
       "    </tr>\n",
       "    <tr>\n",
       "      <th>2</th>\n",
       "      <td>0.003442</td>\n",
       "      <td>0.007530</td>\n",
       "      <td>0.016697</td>\n",
       "      <td>1.0</td>\n",
       "      <td>1.0</td>\n",
       "      <td>0.0</td>\n",
       "      <td>0.0</td>\n",
       "      <td>0.0</td>\n",
       "      <td>0.0</td>\n",
       "      <td>0.0</td>\n",
       "      <td>...</td>\n",
       "      <td>0.0</td>\n",
       "      <td>1.0</td>\n",
       "      <td>0.0</td>\n",
       "      <td>0.0</td>\n",
       "      <td>0.0</td>\n",
       "      <td>0.0</td>\n",
       "      <td>0.0</td>\n",
       "      <td>0.0</td>\n",
       "      <td>0.410597</td>\n",
       "      <td>0.118070</td>\n",
       "    </tr>\n",
       "    <tr>\n",
       "      <th>3</th>\n",
       "      <td>0.003616</td>\n",
       "      <td>0.002784</td>\n",
       "      <td>0.007116</td>\n",
       "      <td>3.0</td>\n",
       "      <td>1.0</td>\n",
       "      <td>0.0</td>\n",
       "      <td>0.0</td>\n",
       "      <td>0.0</td>\n",
       "      <td>0.0</td>\n",
       "      <td>0.0</td>\n",
       "      <td>...</td>\n",
       "      <td>0.0</td>\n",
       "      <td>0.0</td>\n",
       "      <td>1.0</td>\n",
       "      <td>0.0</td>\n",
       "      <td>0.0</td>\n",
       "      <td>0.0</td>\n",
       "      <td>0.0</td>\n",
       "      <td>0.0</td>\n",
       "      <td>-2.135580</td>\n",
       "      <td>-1.327070</td>\n",
       "    </tr>\n",
       "    <tr>\n",
       "      <th>4</th>\n",
       "      <td>0.001578</td>\n",
       "      <td>0.002732</td>\n",
       "      <td>0.009881</td>\n",
       "      <td>3.0</td>\n",
       "      <td>1.0</td>\n",
       "      <td>0.0</td>\n",
       "      <td>0.0</td>\n",
       "      <td>0.0</td>\n",
       "      <td>0.0</td>\n",
       "      <td>0.0</td>\n",
       "      <td>...</td>\n",
       "      <td>0.0</td>\n",
       "      <td>0.0</td>\n",
       "      <td>0.0</td>\n",
       "      <td>0.0</td>\n",
       "      <td>1.0</td>\n",
       "      <td>0.0</td>\n",
       "      <td>0.0</td>\n",
       "      <td>0.0</td>\n",
       "      <td>0.251461</td>\n",
       "      <td>1.563210</td>\n",
       "    </tr>\n",
       "  </tbody>\n",
       "</table>\n",
       "<p>5 rows × 23 columns</p>\n",
       "</div>"
      ],
      "text/plain": [
       "   Easting_rounded  Northing_rounded  DeployedFromStation_Name  Meteo_encoded  \\\n",
       "0         0.001883          0.003372                  0.006311            2.0   \n",
       "1         0.004413          0.001692                  0.007733            3.0   \n",
       "2         0.003442          0.007530                  0.016697            1.0   \n",
       "3         0.003616          0.002784                  0.007116            3.0   \n",
       "4         0.001578          0.002732                  0.009881            3.0   \n",
       "\n",
       "   Visibility_encoded  StopCodeDescription_Chimney Fire  \\\n",
       "0                 1.0                               0.0   \n",
       "1                 1.0                               0.0   \n",
       "2                 1.0                               0.0   \n",
       "3                 1.0                               0.0   \n",
       "4                 1.0                               0.0   \n",
       "\n",
       "   StopCodeDescription_False alarm - Good intent  \\\n",
       "0                                            0.0   \n",
       "1                                            1.0   \n",
       "2                                            0.0   \n",
       "3                                            0.0   \n",
       "4                                            0.0   \n",
       "\n",
       "   StopCodeDescription_False alarm - Malicious  StopCodeDescription_Late Call  \\\n",
       "0                                          0.0                            0.0   \n",
       "1                                          0.0                            0.0   \n",
       "2                                          0.0                            0.0   \n",
       "3                                          0.0                            0.0   \n",
       "4                                          0.0                            0.0   \n",
       "\n",
       "   StopCodeDescription_Primary Fire  ...  PropertyCategory_Boat  \\\n",
       "0                               0.0  ...                    0.0   \n",
       "1                               0.0  ...                    0.0   \n",
       "2                               0.0  ...                    0.0   \n",
       "3                               0.0  ...                    0.0   \n",
       "4                               0.0  ...                    0.0   \n",
       "\n",
       "   PropertyCategory_Dwelling  PropertyCategory_Non Residential  \\\n",
       "0                        0.0                               0.0   \n",
       "1                        1.0                               0.0   \n",
       "2                        1.0                               0.0   \n",
       "3                        0.0                               1.0   \n",
       "4                        0.0                               0.0   \n",
       "\n",
       "   PropertyCategory_Other Residential  PropertyCategory_Outdoor  \\\n",
       "0                                 1.0                       0.0   \n",
       "1                                 0.0                       0.0   \n",
       "2                                 0.0                       0.0   \n",
       "3                                 0.0                       0.0   \n",
       "4                                 0.0                       1.0   \n",
       "\n",
       "   PropertyCategory_Outdoor Structure  PropertyCategory_Rail Vehicle  \\\n",
       "0                                 0.0                            0.0   \n",
       "1                                 0.0                            0.0   \n",
       "2                                 0.0                            0.0   \n",
       "3                                 0.0                            0.0   \n",
       "4                                 0.0                            0.0   \n",
       "\n",
       "   PropertyCategory_Road Vehicle      Hour      Year  \n",
       "0                            0.0  1.047141  0.530967  \n",
       "1                            0.0  0.728869 -0.501276  \n",
       "2                            0.0  0.410597  0.118070  \n",
       "3                            0.0 -2.135580 -1.327070  \n",
       "4                            0.0  0.251461  1.563210  \n",
       "\n",
       "[5 rows x 23 columns]"
      ]
     },
     "metadata": {},
     "output_type": "display_data"
    },
    {
     "name": "stdout",
     "output_type": "stream",
     "text": [
      "<class 'pandas.core.frame.DataFrame'>\n",
      "RangeIndex: 1233308 entries, 0 to 1233307\n",
      "Data columns (total 23 columns):\n",
      " #   Column                                              Non-Null Count    Dtype  \n",
      "---  ------                                              --------------    -----  \n",
      " 0   Easting_rounded                                     1233308 non-null  float64\n",
      " 1   Northing_rounded                                    1233308 non-null  float64\n",
      " 2   DeployedFromStation_Name                            1233308 non-null  float64\n",
      " 3   Meteo_encoded                                       1233308 non-null  float64\n",
      " 4   Visibility_encoded                                  1233308 non-null  float64\n",
      " 5   StopCodeDescription_Chimney Fire                    1233308 non-null  float64\n",
      " 6   StopCodeDescription_False alarm - Good intent       1233308 non-null  float64\n",
      " 7   StopCodeDescription_False alarm - Malicious         1233308 non-null  float64\n",
      " 8   StopCodeDescription_Late Call                       1233308 non-null  float64\n",
      " 9   StopCodeDescription_Primary Fire                    1233308 non-null  float64\n",
      " 10  StopCodeDescription_Secondary Fire                  1233308 non-null  float64\n",
      " 11  StopCodeDescription_Special Service                 1233308 non-null  float64\n",
      " 12  StopCodeDescription_Use of Special Operations Room  1233308 non-null  float64\n",
      " 13  PropertyCategory_Boat                               1233308 non-null  float64\n",
      " 14  PropertyCategory_Dwelling                           1233308 non-null  float64\n",
      " 15  PropertyCategory_Non Residential                    1233308 non-null  float64\n",
      " 16  PropertyCategory_Other Residential                  1233308 non-null  float64\n",
      " 17  PropertyCategory_Outdoor                            1233308 non-null  float64\n",
      " 18  PropertyCategory_Outdoor Structure                  1233308 non-null  float64\n",
      " 19  PropertyCategory_Rail Vehicle                       1233308 non-null  float64\n",
      " 20  PropertyCategory_Road Vehicle                       1233308 non-null  float64\n",
      " 21  Hour                                                1233308 non-null  float64\n",
      " 22  Year                                                1233308 non-null  float64\n",
      "dtypes: float64(23)\n",
      "memory usage: 216.4 MB\n"
     ]
    },
    {
     "data": {
      "text/plain": [
       "None"
      ]
     },
     "metadata": {},
     "output_type": "display_data"
    }
   ],
   "source": [
    "display(X_train_enc.head())\n",
    "display(X_train_enc.info())"
   ]
  },
  {
   "cell_type": "markdown",
   "id": "fa5ec8e4-7d6f-4fdc-824d-de063bcba24e",
   "metadata": {},
   "source": [
    "### Importation des fichiers en format csv (objectif : partir des mêmes données) "
   ]
  },
  {
   "cell_type": "code",
   "execution_count": 100,
   "id": "9f0c5c7f-7e0d-4819-88f4-dd503fbaf3e4",
   "metadata": {},
   "outputs": [],
   "source": [
    "X_train_enc.to_csv('X_train_enc.csv')\n",
    "X_test_enc.to_csv('X_test_enc.csv')"
   ]
  },
  {
   "cell_type": "code",
   "execution_count": 101,
   "id": "8572f5c5-8777-448e-b8ca-b1cbadafcf86",
   "metadata": {},
   "outputs": [],
   "source": [
    "y_train.to_csv('y_train_reg.csv')\n",
    "y_test.to_csv('y_test_reg.csv')"
   ]
  },
  {
   "cell_type": "code",
   "execution_count": null,
   "id": "294a727a-fd77-4577-86ec-5392a74b2b00",
   "metadata": {},
   "outputs": [],
   "source": []
  }
 ],
 "metadata": {
  "kernelspec": {
   "display_name": "Python [conda env:base] *",
   "language": "python",
   "name": "conda-base-py"
  },
  "language_info": {
   "codemirror_mode": {
    "name": "ipython",
    "version": 3
   },
   "file_extension": ".py",
   "mimetype": "text/x-python",
   "name": "python",
   "nbconvert_exporter": "python",
   "pygments_lexer": "ipython3",
   "version": "3.12.7"
  }
 },
 "nbformat": 4,
 "nbformat_minor": 5
}
